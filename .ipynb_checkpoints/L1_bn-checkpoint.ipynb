{
 "cells": [
  {
   "cell_type": "code",
   "execution_count": null,
   "metadata": {},
   "outputs": [],
   "source": [
    "def _norm(x,dim,p):\n",
    "    '''This function calculates the norm along all the \n",
    "    dimensions except the dimension given in dim argument'''\n",
    "    shape = x.shape\n",
    "    out_size = (1,)*dim + (x.size(dim),)+ (1,)*(x.dim()-1-dim)\n",
    "    a = x.transpose(0,dim)\n",
    "    b = a.contiguous().view(shape[dim], -1)\n",
    "    xn = torch.norm(b, dim=1,p=p)\n",
    "    xn = xn.view(*out_size)\n",
    "    return xn/(shape[0]*shape[2]*shape[3])\n",
    "\n",
    "torch.Tensor.l1norm = _norm\n",
    "\n",
    "class BatchNorm1d(nn.Module):\n",
    "    def __init__(self,nc,mom = 0.1,eps = 1e-05):\n",
    "        super().__init__()\n",
    "        self.mom = mom\n",
    "        self.eps = eps\n",
    "        self.mults = nn.Parameter(torch.ones(1,nc,1,1))\n",
    "        self.adds = nn.Parameter(torch.zeros(1,nc,1,1))\n",
    "        self.register_buffer('means', torch.zeros(1,nc,1,1))\n",
    "        self.register_buffer('vars', torch.ones(1,nc,1,1))\n",
    "        \n",
    "    def update_stats(self,x):\n",
    "        m = x.mean(dim = (0,2,3), keepdim = True)\n",
    "        v = torch.abs(x-m).l1norm(dim =1, p=1)*(tensor(math.pi/2).sqrt())\n",
    "        self.means.lerp_(m,self.mom)\n",
    "        self.vars.lerp_(v,self.mom)\n",
    "        return m,v\n",
    "    \n",
    "    def forward(self,x):\n",
    "        if self.training: mean,var = self.update_stats(x)\n",
    "        else:\n",
    "            mean,var = self.means, self.vars\n",
    "        x = (x - mean)/(var + self.eps)\n",
    "        return x*self.mults + self.adds\n"
   ]
  }
 ],
 "metadata": {
  "kernelspec": {
   "display_name": "Python 3",
   "language": "python",
   "name": "python3"
  },
  "language_info": {
   "codemirror_mode": {
    "name": "ipython",
    "version": 3
   },
   "file_extension": ".py",
   "mimetype": "text/x-python",
   "name": "python",
   "nbconvert_exporter": "python",
   "pygments_lexer": "ipython3",
   "version": "3.7.7"
  }
 },
 "nbformat": 4,
 "nbformat_minor": 4
}
